{
 "cells": [
  {
   "cell_type": "markdown",
   "metadata": {},
   "source": [
    "# 15. Матричное умножение\n",
    "Вычисление элементов произведения $C$ двух квадратных матриц $A=(a_{ij})$ и $B=(b_{ij})$ по формулам\n",
    "$$\n",
    "c_{ij} = \\sum_{k=1}^n a_{ik} b_{kj} \\qquad (i=1,2,\\dots,n;~ j=1,2,\\dots,n)\n",
    "$$\n",
    "легко реализуется с помощью трех вложенных циклов: по $i$, по $j$ и по $k$.\n",
    "Различные варианты алгоритма можно получить перестановкой циклов.\n",
    "Напишите шесть функций `multijk`, `multikj`, `multjik`, ..., \n",
    "реализующих каждый из этих вариантов. Для серии случайно сгенерированных матриц больших размеров\n",
    "замерьте время, требуемое этими функциями и стандартной операцией `@`.\n",
    "Нарисуйте графики зависимости времени от порядка матриц.\n",
    "Объясните, почему требуется различное время на выполнение каждой из написанных вами функций.\n",
    "\n",
    "\n",
    "\n",
    "\n"
   ]
  },
  {
   "cell_type": "code",
   "execution_count": 71,
   "metadata": {},
   "outputs": [],
   "source": [
    "import numpy as np\n",
    "from numpy import random\n",
    "import matplotlib.pyplot as plt\n",
    "import datetime \n",
    "%matplotlib inline"
   ]
  },
  {
   "cell_type": "markdown",
   "metadata": {},
   "source": [
    "# 6 функций mult"
   ]
  },
  {
   "cell_type": "code",
   "execution_count": 72,
   "metadata": {},
   "outputs": [],
   "source": [
    "def multijk(A, B, C, n):\n",
    "    start_time=datetime.datetime.now()\n",
    "    for i in range(0, n):\n",
    "        for j in range(0, n):\n",
    "            for k in range(0, n):\n",
    "                C[i, j]+=A[i, k]*B[k, j]\n",
    "    elapsed=datetime.datetime.now()-start_time\n",
    "    res=elapsed.seconds*1000+elapsed.microseconds/1000\n",
    "    return res"
   ]
  },
  {
   "cell_type": "code",
   "execution_count": 73,
   "metadata": {},
   "outputs": [],
   "source": [
    "def multikj(A, B, C, n):\n",
    "    start_time=datetime.datetime.now()\n",
    "    for i in range(0, n):\n",
    "        for k in range(0, n):\n",
    "            for j in range(0, n):\n",
    "                C[i, j]+=A[i, k]*B[k, j]\n",
    "    elapsed=datetime.datetime.now()-start_time\n",
    "    res=elapsed.seconds*1000+elapsed.microseconds/1000\n",
    "    return res"
   ]
  },
  {
   "cell_type": "code",
   "execution_count": 74,
   "metadata": {},
   "outputs": [],
   "source": [
    "def multjik(A, B, C, n):\n",
    "    start_time=datetime.datetime.now()\n",
    "    for j in range(0, n):\n",
    "        for i in range(0, n):\n",
    "            for k in range(0, n):\n",
    "                C[i, j]+=A[i, k]*B[k, j]\n",
    "    elapsed=datetime.datetime.now()-start_time\n",
    "    res=elapsed.seconds*1000+elapsed.microseconds/1000\n",
    "    return res"
   ]
  },
  {
   "cell_type": "code",
   "execution_count": 75,
   "metadata": {},
   "outputs": [],
   "source": [
    "def multjki(A, B, C, n):\n",
    "    start_time=datetime.datetime.now()\n",
    "    for j in range(0, n):\n",
    "        for k in range(0, n):\n",
    "            for i in range(0, n):\n",
    "                C[i, j]+=A[i, k]*B[k, j]\n",
    "    elapsed=datetime.datetime.now()-start_time\n",
    "    res=elapsed.seconds*1000+elapsed.microseconds/1000\n",
    "    return res"
   ]
  },
  {
   "cell_type": "code",
   "execution_count": 76,
   "metadata": {},
   "outputs": [],
   "source": [
    "def multkij(A, B, C, n):\n",
    "    start_time=datetime.datetime.now()\n",
    "    for k in range(0, n):\n",
    "        for i in range(0, n):\n",
    "            for j in range(0, n):\n",
    "                C[i, j]+=A[i, k]*B[k, j]\n",
    "    elapsed=datetime.datetime.now()-start_time\n",
    "    res=elapsed.seconds*1000+elapsed.microseconds/1000\n",
    "    return res"
   ]
  },
  {
   "cell_type": "code",
   "execution_count": 77,
   "metadata": {},
   "outputs": [],
   "source": [
    "def multkji(A, B, C, n):\n",
    "    start_time=datetime.datetime.now()\n",
    "    for k in range(0, n):\n",
    "        for j in range(0, n):\n",
    "            for i in range(0, n):\n",
    "                C[i, j]+=A[i, k]*B[k, j]\n",
    "    elapsed=datetime.datetime.now()-start_time\n",
    "    res=elapsed.seconds*1000+elapsed.microseconds/1000\n",
    "    return res"
   ]
  },
  {
   "cell_type": "markdown",
   "metadata": {},
   "source": [
    "Массивы с полученными значениями"
   ]
  },
  {
   "cell_type": "code",
   "execution_count": 78,
   "metadata": {},
   "outputs": [],
   "source": [
    "ijk=np.array([],dtype=np.float)\n",
    "ikj=np.array([],dtype=np.float)\n",
    "jik=np.array([],dtype=np.float)\n",
    "jki=np.array([],dtype=np.float)\n",
    "kij=np.array([],dtype=np.float)\n",
    "kji=np.array([],dtype=np.float)\n",
    "std=np.array([],dtype=np.float)"
   ]
  },
  {
   "cell_type": "markdown",
   "metadata": {},
   "source": [
    "# main"
   ]
  },
  {
   "cell_type": "code",
   "execution_count": null,
   "metadata": {},
   "outputs": [],
   "source": [
    "random.seed()\n",
    "for n in range (100, 301, 10):\n",
    "    A=random.rand(n, n)\n",
    "    B=random.rand(n, n)\n",
    "    C=np.zeros((n, n))\n",
    "    \n",
    "    ijk=np.append(ijk, multijk(A, B, C, n))\n",
    "    \n",
    "    C=np.zeros((n, n))\n",
    "    ikj=np.append(ikj, multikj(A, B, C, n))\n",
    "    \n",
    "    C=np.zeros((n, n))\n",
    "    jik=np.append(jik, multjik(A, B, C, n))\n",
    "    \n",
    "    C=np.zeros((n, n))\n",
    "    jki=np.append(jki, multjki(A, B, C, n))\n",
    "    \n",
    "    C=np.zeros((n, n))\n",
    "    kij=np.append(kij, multkij(A, B, C, n))\n",
    "    \n",
    "    C=np.zeros((n, n))\n",
    "    kji=np.append(kji, multkji(A, B, C, n))\n",
    "    \n",
    "    C=np.zeros((n, n))\n",
    "    start_time=datetime.datetime.now()\n",
    "    C=A@B\n",
    "    elapsed=datetime.datetime.now()-start_time\n",
    "    res=elapsed.seconds*1000+elapsed.microseconds/1000\n",
    "    std=np.append(std, res)"
   ]
  },
  {
   "cell_type": "markdown",
   "metadata": {},
   "source": [
    "# графики зависимости времени от порядка матриц"
   ]
  },
  {
   "cell_type": "code",
   "execution_count": null,
   "metadata": {},
   "outputs": [],
   "source": [
    "plt.figure(figsize = (17, 13))\n",
    "plt.grid()\n",
    "x=np.linspace(100, 300, 21)\n",
    "plt.semilogy(x, ijk, label='ijk')\n",
    "plt.semilogy(x, ikj, label='ikj')\n",
    "plt.semilogy(x, jik, label='jik')\n",
    "plt.semilogy(x, jki, label='jki')\n",
    "plt.semilogy(x, kij, label='kij')\n",
    "plt.semilogy(x, kji, label='kji')\n",
    "plt.semilogy(x, std, label='@')\n",
    "plt.xlabel('Порядок матриц')\n",
    "plt.ylabel('Время выполнения (с)')\n",
    "plt.legend(loc='best', fontsize=14)\n",
    "pass"
   ]
  },
  {
   "cell_type": "markdown",
   "metadata": {},
   "source": [
    "Если график будет не видно из-за ошибки, то прикреплю его пнг файлом"
   ]
  },
  {
   "cell_type": "markdown",
   "metadata": {},
   "source": [
    "# Вывод\n",
    "### Как видно по графику, разница во времени выполнения NumPy почти нивелируется, что нельзя сказать об операторе  @. Оператор @ делает все задачи последовательно, а NumPy разбивает операции на подзадачи, что позволяет делать их одновременно. Это и позволяет увеличить скорость выполнения"
   ]
  },
  {
   "cell_type": "code",
   "execution_count": null,
   "metadata": {},
   "outputs": [],
   "source": []
  }
 ],
 "metadata": {
  "kernelspec": {
   "display_name": "Python 3",
   "language": "python",
   "name": "python3"
  }
 },
 "nbformat": 4,
 "nbformat_minor": 4
}
